{
 "cells": [
  {
   "cell_type": "code",
   "execution_count": 12,
   "metadata": {},
   "outputs": [],
   "source": [
    "# imports and froms\n",
    "import pandas as pd\n",
    "import pymysql\n",
    "from sqlalchemy import create_engine\n",
    "pymysql.install_as_MySQLdb()"
   ]
  },
  {
   "cell_type": "code",
   "execution_count": 13,
   "metadata": {},
   "outputs": [
    {
     "data": {
      "text/html": [
       "<div>\n",
       "<style scoped>\n",
       "    .dataframe tbody tr th:only-of-type {\n",
       "        vertical-align: middle;\n",
       "    }\n",
       "\n",
       "    .dataframe tbody tr th {\n",
       "        vertical-align: top;\n",
       "    }\n",
       "\n",
       "    .dataframe thead th {\n",
       "        text-align: right;\n",
       "    }\n",
       "</style>\n",
       "<table border=\"1\" class=\"dataframe\">\n",
       "  <thead>\n",
       "    <tr style=\"text-align: right;\">\n",
       "      <th></th>\n",
       "      <th>Breed</th>\n",
       "      <th>Classification</th>\n",
       "      <th>obey</th>\n",
       "      <th>reps_lower</th>\n",
       "      <th>reps_upper</th>\n",
       "    </tr>\n",
       "  </thead>\n",
       "  <tbody>\n",
       "    <tr>\n",
       "      <th>0</th>\n",
       "      <td>Border Collie</td>\n",
       "      <td>Brightest Dogs</td>\n",
       "      <td>95%</td>\n",
       "      <td>1</td>\n",
       "      <td>4</td>\n",
       "    </tr>\n",
       "    <tr>\n",
       "      <th>1</th>\n",
       "      <td>Poodle</td>\n",
       "      <td>Brightest Dogs</td>\n",
       "      <td>95%</td>\n",
       "      <td>1</td>\n",
       "      <td>4</td>\n",
       "    </tr>\n",
       "    <tr>\n",
       "      <th>2</th>\n",
       "      <td>German Shepherd</td>\n",
       "      <td>Brightest Dogs</td>\n",
       "      <td>95%</td>\n",
       "      <td>1</td>\n",
       "      <td>4</td>\n",
       "    </tr>\n",
       "    <tr>\n",
       "      <th>3</th>\n",
       "      <td>Golden Retriever</td>\n",
       "      <td>Brightest Dogs</td>\n",
       "      <td>95%</td>\n",
       "      <td>1</td>\n",
       "      <td>4</td>\n",
       "    </tr>\n",
       "    <tr>\n",
       "      <th>4</th>\n",
       "      <td>Doberman Pinscher</td>\n",
       "      <td>Brightest Dogs</td>\n",
       "      <td>95%</td>\n",
       "      <td>1</td>\n",
       "      <td>4</td>\n",
       "    </tr>\n",
       "  </tbody>\n",
       "</table>\n",
       "</div>"
      ],
      "text/plain": [
       "               Breed  Classification obey  reps_lower  reps_upper\n",
       "0      Border Collie  Brightest Dogs  95%           1           4\n",
       "1             Poodle  Brightest Dogs  95%           1           4\n",
       "2    German Shepherd  Brightest Dogs  95%           1           4\n",
       "3   Golden Retriever  Brightest Dogs  95%           1           4\n",
       "4  Doberman Pinscher  Brightest Dogs  95%           1           4"
      ]
     },
     "execution_count": 13,
     "metadata": {},
     "output_type": "execute_result"
    }
   ],
   "source": [
    "# load CSVs into dataframes\n",
    "dog_csv = 'Resources/dog_intelligence.csv'\n",
    "dog_df = pd.read_csv(dog_csv, encoding = 'utf8')\n",
    "dog_df.head()"
   ]
  },
  {
   "cell_type": "code",
   "execution_count": 14,
   "metadata": {},
   "outputs": [
    {
     "data": {
      "text/html": [
       "<div>\n",
       "<style scoped>\n",
       "    .dataframe tbody tr th:only-of-type {\n",
       "        vertical-align: middle;\n",
       "    }\n",
       "\n",
       "    .dataframe tbody tr th {\n",
       "        vertical-align: top;\n",
       "    }\n",
       "\n",
       "    .dataframe thead th {\n",
       "        text-align: right;\n",
       "    }\n",
       "</style>\n",
       "<table border=\"1\" class=\"dataframe\">\n",
       "  <thead>\n",
       "    <tr style=\"text-align: right;\">\n",
       "      <th></th>\n",
       "      <th>Breed</th>\n",
       "      <th>Heterozygosity (x10-4)</th>\n",
       "    </tr>\n",
       "  </thead>\n",
       "  <tbody>\n",
       "    <tr>\n",
       "      <th>0</th>\n",
       "      <td>Scottish Deerhound</td>\n",
       "      <td>2.0683</td>\n",
       "    </tr>\n",
       "    <tr>\n",
       "      <th>1</th>\n",
       "      <td>Field Spaniel</td>\n",
       "      <td>2.3165</td>\n",
       "    </tr>\n",
       "    <tr>\n",
       "      <th>2</th>\n",
       "      <td>Flat-coated Retriever</td>\n",
       "      <td>2.6474</td>\n",
       "    </tr>\n",
       "    <tr>\n",
       "      <th>3</th>\n",
       "      <td>Bernese Mountain Dog</td>\n",
       "      <td>2.8129</td>\n",
       "    </tr>\n",
       "    <tr>\n",
       "      <th>4</th>\n",
       "      <td>Standard Schnauzer</td>\n",
       "      <td>2.8129</td>\n",
       "    </tr>\n",
       "  </tbody>\n",
       "</table>\n",
       "</div>"
      ],
      "text/plain": [
       "                   Breed  Heterozygosity (x10-4)\n",
       "0     Scottish Deerhound                  2.0683\n",
       "1          Field Spaniel                  2.3165\n",
       "2  Flat-coated Retriever                  2.6474\n",
       "3   Bernese Mountain Dog                  2.8129\n",
       "4     Standard Schnauzer                  2.8129"
      ]
     },
     "execution_count": 14,
     "metadata": {},
     "output_type": "execute_result"
    }
   ],
   "source": [
    "# load CSVs into dataframes\n",
    "hetero60_csv = 'Resources/Table_5_Expected_Heterozygosity_60_breeds.csv'\n",
    "hetero60_df = pd.read_csv(hetero60_csv, encoding = 'utf8')\n",
    "hetero60_df.head()"
   ]
  },
  {
   "cell_type": "code",
   "execution_count": 15,
   "metadata": {},
   "outputs": [
    {
     "data": {
      "text/html": [
       "<div>\n",
       "<style scoped>\n",
       "    .dataframe tbody tr th:only-of-type {\n",
       "        vertical-align: middle;\n",
       "    }\n",
       "\n",
       "    .dataframe tbody tr th {\n",
       "        vertical-align: top;\n",
       "    }\n",
       "\n",
       "    .dataframe thead th {\n",
       "        text-align: right;\n",
       "    }\n",
       "</style>\n",
       "<table border=\"1\" class=\"dataframe\">\n",
       "  <thead>\n",
       "    <tr style=\"text-align: right;\">\n",
       "      <th></th>\n",
       "      <th>Population</th>\n",
       "      <th>Heterozygosit</th>\n",
       "    </tr>\n",
       "  </thead>\n",
       "  <tbody>\n",
       "    <tr>\n",
       "      <th>0</th>\n",
       "      <td>Bedlington Terrier</td>\n",
       "      <td>0.312842</td>\n",
       "    </tr>\n",
       "    <tr>\n",
       "      <th>1</th>\n",
       "      <td>Miniature Bull Terrier</td>\n",
       "      <td>0.321619</td>\n",
       "    </tr>\n",
       "    <tr>\n",
       "      <th>2</th>\n",
       "      <td>Boxer</td>\n",
       "      <td>0.343151</td>\n",
       "    </tr>\n",
       "    <tr>\n",
       "      <th>3</th>\n",
       "      <td>Clumber Spaniel</td>\n",
       "      <td>0.363595</td>\n",
       "    </tr>\n",
       "    <tr>\n",
       "      <th>4</th>\n",
       "      <td>Greater Swiss Mountain Dog</td>\n",
       "      <td>0.364943</td>\n",
       "    </tr>\n",
       "  </tbody>\n",
       "</table>\n",
       "</div>"
      ],
      "text/plain": [
       "                   Population  Heterozygosit\n",
       "0          Bedlington Terrier       0.312842\n",
       "1      Miniature Bull Terrier       0.321619\n",
       "2                       Boxer       0.343151\n",
       "3             Clumber Spaniel       0.363595\n",
       "4  Greater Swiss Mountain Dog       0.364943"
      ]
     },
     "execution_count": 15,
     "metadata": {},
     "output_type": "execute_result"
    }
   ],
   "source": [
    "# load CSVs into dataframes\n",
    "hetero85_csv = 'Resources/Table_4_Heterozygosity_85_breeds.csv'\n",
    "hetero85_df = pd.read_csv(hetero85_csv, encoding = 'utf8')\n",
    "hetero85_df.head()"
   ]
  },
  {
   "cell_type": "code",
   "execution_count": 21,
   "metadata": {},
   "outputs": [
    {
     "data": {
      "text/html": [
       "<div>\n",
       "<style scoped>\n",
       "    .dataframe tbody tr th:only-of-type {\n",
       "        vertical-align: middle;\n",
       "    }\n",
       "\n",
       "    .dataframe tbody tr th {\n",
       "        vertical-align: top;\n",
       "    }\n",
       "\n",
       "    .dataframe thead th {\n",
       "        text-align: right;\n",
       "    }\n",
       "</style>\n",
       "<table border=\"1\" class=\"dataframe\">\n",
       "  <thead>\n",
       "    <tr style=\"text-align: right;\">\n",
       "      <th></th>\n",
       "      <th>Breed</th>\n",
       "      <th>height_low_inches</th>\n",
       "      <th>height_high_inches</th>\n",
       "      <th>weight_low_lbs</th>\n",
       "      <th>weight_high_lbs</th>\n",
       "    </tr>\n",
       "  </thead>\n",
       "  <tbody>\n",
       "    <tr>\n",
       "      <th>0</th>\n",
       "      <td>Akita</td>\n",
       "      <td>26</td>\n",
       "      <td>28</td>\n",
       "      <td>80</td>\n",
       "      <td>120</td>\n",
       "    </tr>\n",
       "    <tr>\n",
       "      <th>1</th>\n",
       "      <td>Anatolian Sheepdog</td>\n",
       "      <td>27</td>\n",
       "      <td>29</td>\n",
       "      <td>100</td>\n",
       "      <td>150</td>\n",
       "    </tr>\n",
       "    <tr>\n",
       "      <th>2</th>\n",
       "      <td>Bernese Mountain Dog</td>\n",
       "      <td>23</td>\n",
       "      <td>27</td>\n",
       "      <td>85</td>\n",
       "      <td>110</td>\n",
       "    </tr>\n",
       "    <tr>\n",
       "      <th>3</th>\n",
       "      <td>Bloodhound</td>\n",
       "      <td>24</td>\n",
       "      <td>26</td>\n",
       "      <td>80</td>\n",
       "      <td>120</td>\n",
       "    </tr>\n",
       "    <tr>\n",
       "      <th>4</th>\n",
       "      <td>Borzoi</td>\n",
       "      <td>26</td>\n",
       "      <td>28</td>\n",
       "      <td>70</td>\n",
       "      <td>100</td>\n",
       "    </tr>\n",
       "  </tbody>\n",
       "</table>\n",
       "</div>"
      ],
      "text/plain": [
       "                  Breed height_low_inches height_high_inches weight_low_lbs  \\\n",
       "0                 Akita                26                 28             80   \n",
       "1    Anatolian Sheepdog                27                 29            100   \n",
       "2  Bernese Mountain Dog                23                 27             85   \n",
       "3            Bloodhound                24                 26             80   \n",
       "4                Borzoi                26                 28             70   \n",
       "\n",
       "  weight_high_lbs  \n",
       "0             120  \n",
       "1             150  \n",
       "2             110  \n",
       "3             120  \n",
       "4             100  "
      ]
     },
     "execution_count": 21,
     "metadata": {},
     "output_type": "execute_result"
    }
   ],
   "source": [
    "# load CSVs into dataframes\n",
    "akc_csv = 'Resources/AKC Breed Info.csv'\n",
    "akc_df = pd.read_csv(akc_csv, encoding='latin1')\n",
    "akc_df.head()"
   ]
  },
  {
   "cell_type": "code",
   "execution_count": 22,
   "metadata": {},
   "outputs": [],
   "source": [
    "# declare connection variables for mypysql and sqlalchemy\n",
    "host = '127.0.0.1' \n",
    "user = 'root'\n",
    "password = ''\n",
    "db = 'etl_db'\n",
    "charset = 'utf8'\n",
    "port = 3306\n",
    "cursorclass = pymysql.cursors.DictCursor"
   ]
  },
  {
   "cell_type": "code",
   "execution_count": 23,
   "metadata": {},
   "outputs": [],
   "source": [
    "# establish mypymsql connection\n",
    "connection = pymysql.connect(\n",
    "    host=host,\n",
    "    user=user,\n",
    "    password=password,\n",
    "    charset=charset,\n",
    "    cursorclass=cursorclass)\n",
    "cursor_object = connection.cursor()"
   ]
  },
  {
   "cell_type": "code",
   "execution_count": 24,
   "metadata": {},
   "outputs": [
    {
     "name": "stdout",
     "output_type": "stream",
     "text": [
      "{'Database': 'etl_db'}\n",
      "{'Database': 'information_schema'}\n",
      "{'Database': 'mysql'}\n",
      "{'Database': 'performance_schema'}\n",
      "{'Database': 'sakila'}\n",
      "{'Database': 'sys'}\n",
      "{'Database': 'world'}\n"
     ]
    },
    {
     "name": "stderr",
     "output_type": "stream",
     "text": [
      "C:\\ProgramData\\Anaconda3\\lib\\site-packages\\pymysql\\cursors.py:329: Warning: (1007, \"Can't create database 'etl_db'; database exists\")\n",
      "  self._do_get_result()\n"
     ]
    }
   ],
   "source": [
    "# create database\n",
    "sql_create = (f'CREATE DATABASE IF NOT EXISTS {db}')  \n",
    "cursor_object.execute(sql_create)\n",
    "\n",
    "# show databases\n",
    "sql_query = 'SHOW DATABASES'\n",
    "cursor_object.execute(sql_query)\n",
    "db_list = cursor_object.fetchall()\n",
    "\n",
    "for database in db_list:\n",
    "    print(database)"
   ]
  },
  {
   "cell_type": "code",
   "execution_count": 25,
   "metadata": {},
   "outputs": [],
   "source": [
    "# reestablish pymysql connection with database specified\n",
    "connection = pymysql.connect(\n",
    "    host=host,\n",
    "    user=user,\n",
    "    password=password,\n",
    "    db=db, \n",
    "    charset=charset,\n",
    "    cursorclass=cursorclass)\n",
    "cursor_object = connection.cursor()"
   ]
  },
  {
   "cell_type": "code",
   "execution_count": 26,
   "metadata": {},
   "outputs": [
    {
     "name": "stdout",
     "output_type": "stream",
     "text": [
      "{'Tables_in_etl_db': 'akc'}\n",
      "{'Tables_in_etl_db': 'dogs'}\n",
      "{'Tables_in_etl_db': 'hetero60'}\n",
      "{'Tables_in_etl_db': 'hetero85'}\n"
     ]
    },
    {
     "name": "stderr",
     "output_type": "stream",
     "text": [
      "C:\\ProgramData\\Anaconda3\\lib\\site-packages\\pymysql\\cursors.py:329: Warning: (1050, \"Table 'dogs' already exists\")\n",
      "  self._do_get_result()\n",
      "C:\\ProgramData\\Anaconda3\\lib\\site-packages\\pymysql\\cursors.py:329: Warning: (1050, \"Table 'hetero60' already exists\")\n",
      "  self._do_get_result()\n",
      "C:\\ProgramData\\Anaconda3\\lib\\site-packages\\pymysql\\cursors.py:329: Warning: (1050, \"Table 'hetero85' already exists\")\n",
      "  self._do_get_result()\n"
     ]
    }
   ],
   "source": [
    "# create tables\n",
    "query_list = [\n",
    "    'CREATE TABLE IF NOT EXISTS akc(Breed VARCHAR(32), height_low_inches INT, height_high_inches INT, weight_low_lbs INT, weight_high_lbs INT)',\n",
    "    'CREATE TABLE IF NOT EXISTS dogs(Breed VARCHAR(32), Classification VARCHAR(32), obey FLOAT, reps_lower INT, reps_upper INT)',\n",
    "    'CREATE TABLE IF NOT EXISTS hetero60(Breed VARCHAR(32), Heterozygosity FLOAT)',\n",
    "    'CREATE TABLE IF NOT EXISTS hetero85(Population VARCHAR(32), Heterozygosit FLOAT)'\n",
    "]\n",
    "\n",
    "for query in query_list:\n",
    "    cursor_object.execute(query)\n",
    "\n",
    "# show tables\n",
    "sql_query = 'SHOW TABLES'   \n",
    "cursor_object.execute(sql_query)\n",
    "rows = cursor_object.fetchall()\n",
    "\n",
    "for row in rows:\n",
    "    print(row)"
   ]
  },
  {
   "cell_type": "code",
   "execution_count": 27,
   "metadata": {},
   "outputs": [],
   "source": [
    "# establish sqlalchemy connection\n",
    "con = create_engine(f'mysql+pymysql://{user}:{password}@{host}:{port}/{db}?charset=utf8mb4', echo=False)\n",
    "\n",
    "# load data into tables\n",
    "akc_df.to_sql(name='akc', con=con, if_exists='replace', index=False)\n",
    "dog_df.to_sql(name='dogs', con=con, if_exists='replace', index=False)\n",
    "hetero85_df.to_sql(name='hetero85', con=con, if_exists='replace', index=False)\n",
    "hetero60_df.to_sql(name='hetero60', con=con, if_exists='replace', index=False)"
   ]
  },
  {
   "cell_type": "code",
   "execution_count": 28,
   "metadata": {
    "scrolled": true
   },
   "outputs": [
    {
     "name": "stdout",
     "output_type": "stream",
     "text": [
      "{'Breed': 'Akita', 'height_low_inches': '26', 'height_high_inches': '28', 'weight_low_lbs': '80', 'weight_high_lbs': '120'}\n",
      "{'Breed': 'Anatolian Sheepdog', 'height_low_inches': '27', 'height_high_inches': '29', 'weight_low_lbs': '100', 'weight_high_lbs': '150'}\n",
      "{'Breed': 'Bernese Mountain Dog', 'height_low_inches': '23', 'height_high_inches': '27', 'weight_low_lbs': '85', 'weight_high_lbs': '110'}\n",
      "{'Breed': 'Bloodhound', 'height_low_inches': '24', 'height_high_inches': '26', 'weight_low_lbs': '80', 'weight_high_lbs': '120'}\n",
      "{'Breed': 'Borzoi', 'height_low_inches': '26', 'height_high_inches': '28', 'weight_low_lbs': '70', 'weight_high_lbs': '100'}\n",
      "{'Breed': 'Bullmastiff', 'height_low_inches': '25', 'height_high_inches': '27', 'weight_low_lbs': '100', 'weight_high_lbs': '130'}\n",
      "{'Breed': 'Great Dane', 'height_low_inches': '32', 'height_high_inches': '32', 'weight_low_lbs': '120', 'weight_high_lbs': '160'}\n",
      "{'Breed': 'Great Pyrenees', 'height_low_inches': '27', 'height_high_inches': '32', 'weight_low_lbs': '95', 'weight_high_lbs': '120'}\n",
      "{'Breed': 'Great Swiss Mountain Dog', 'height_low_inches': '23', 'height_high_inches': '28', 'weight_low_lbs': '130', 'weight_high_lbs': '150'}\n",
      "{'Breed': 'Irish Wolfhound', 'height_low_inches': '28', 'height_high_inches': '35', 'weight_low_lbs': '90', 'weight_high_lbs': '150'}\n",
      "\n",
      "{'Breed': 'Border Collie', 'Classification': 'Brightest Dogs', 'obey': '95%', 'reps_lower': 1, 'reps_upper': 4}\n",
      "{'Breed': 'Poodle', 'Classification': 'Brightest Dogs', 'obey': '95%', 'reps_lower': 1, 'reps_upper': 4}\n",
      "{'Breed': 'German Shepherd', 'Classification': 'Brightest Dogs', 'obey': '95%', 'reps_lower': 1, 'reps_upper': 4}\n",
      "{'Breed': 'Golden Retriever', 'Classification': 'Brightest Dogs', 'obey': '95%', 'reps_lower': 1, 'reps_upper': 4}\n",
      "{'Breed': 'Doberman Pinscher', 'Classification': 'Brightest Dogs', 'obey': '95%', 'reps_lower': 1, 'reps_upper': 4}\n",
      "{'Breed': 'Shetland Sheepdog', 'Classification': 'Brightest Dogs', 'obey': '95%', 'reps_lower': 1, 'reps_upper': 4}\n",
      "{'Breed': 'Labrador Retriever', 'Classification': 'Brightest Dogs', 'obey': '95%', 'reps_lower': 1, 'reps_upper': 4}\n",
      "{'Breed': 'Papillon', 'Classification': 'Brightest Dogs', 'obey': '95%', 'reps_lower': 1, 'reps_upper': 4}\n",
      "{'Breed': 'Rottweiler', 'Classification': 'Brightest Dogs', 'obey': '95%', 'reps_lower': 1, 'reps_upper': 4}\n",
      "{'Breed': 'Australian Cattle Dog', 'Classification': 'Brightest Dogs', 'obey': '95%', 'reps_lower': 1, 'reps_upper': 4}\n",
      "\n",
      "{'Breed': 'Scottish Deerhound', 'Heterozygosity (x10-4)': 2.0683}\n",
      "{'Breed': 'Field Spaniel', 'Heterozygosity (x10-4)': 2.3165}\n",
      "{'Breed': 'Flat-coated Retriever', 'Heterozygosity (x10-4)': 2.6474}\n",
      "{'Breed': 'Bernese Mountain Dog', 'Heterozygosity (x10-4)': 2.8129}\n",
      "{'Breed': 'Standard Schnauzer', 'Heterozygosity (x10-4)': 2.8129}\n",
      "{'Breed': 'Boxer', 'Heterozygosity (x10-4)': 3.0611}\n",
      "{'Breed': 'Collie', 'Heterozygosity (x10-4)': 3.0611}\n",
      "{'Breed': 'Bearded Collie', 'Heterozygosity (x10-4)': 3.1438}\n",
      "{'Breed': 'Miniature Bull Terrier', 'Heterozygosity (x10-4)': 3.2266}\n",
      "{'Breed': 'Perro de Presa Canario', 'Heterozygosity (x10-4)': 3.392}\n",
      "\n",
      "{'Population': 'Bedlington Terrier', 'Heterozygosit': 0.312842}\n",
      "{'Population': 'Miniature Bull Terrier', 'Heterozygosit': 0.321619}\n",
      "{'Population': 'Boxer', 'Heterozygosit': 0.343151}\n",
      "{'Population': 'Clumber Spaniel', 'Heterozygosit': 0.363595}\n",
      "{'Population': 'Greater Swiss Mountain Dog', 'Heterozygosit': 0.364943}\n",
      "{'Population': 'Airedale Terrier', 'Heterozygosit': 0.372793}\n",
      "{'Population': 'Soft Coated Wheaten Terrier', 'Heterozygosit': 0.37376}\n",
      "{'Population': 'Collie', 'Heterozygosit': 0.383453}\n",
      "{'Population': 'Doberman Pinscher', 'Heterozygosit': 0.383763}\n",
      "{'Population': 'Irish Terrier', 'Heterozygosit': 0.390427}\n",
      "\n"
     ]
    }
   ],
   "source": [
    "# reestablish pymysql connection after loading data\n",
    "connection = pymysql.connect(\n",
    "    host=host,\n",
    "    user=user,\n",
    "    password=password,\n",
    "    db=db, \n",
    "    charset=charset,\n",
    "    cursorclass=cursorclass)\n",
    "cursor_object = connection.cursor()\n",
    "\n",
    "# show data in tables\n",
    "query_list = [\n",
    "    'SELECT * FROM akc LIMIT 10',\n",
    "    'SELECT * FROM dogs LIMIT 10',\n",
    "    'SELECT * FROM hetero60 LIMIT 10',\n",
    "    'SELECT * FROM hetero85 LIMIT 10'\n",
    "]\n",
    "\n",
    "for query in query_list:\n",
    "    cursor_object.execute(query)\n",
    "    rows = cursor_object.fetchall()\n",
    "\n",
    "    for row in rows:\n",
    "        print(row)\n",
    "        \n",
    "    print(end='\\n')"
   ]
  },
  {
   "cell_type": "code",
   "execution_count": 29,
   "metadata": {},
   "outputs": [],
   "source": [
    "# terminate pymysql connection\n",
    "connection.close()"
   ]
  },
  {
   "cell_type": "code",
   "execution_count": null,
   "metadata": {},
   "outputs": [],
   "source": []
  }
 ],
 "metadata": {
  "kernelspec": {
   "display_name": "Python 3",
   "language": "python",
   "name": "python3"
  },
  "language_info": {
   "codemirror_mode": {
    "name": "ipython",
    "version": 3
   },
   "file_extension": ".py",
   "mimetype": "text/x-python",
   "name": "python",
   "nbconvert_exporter": "python",
   "pygments_lexer": "ipython3",
   "version": "3.6.6"
  }
 },
 "nbformat": 4,
 "nbformat_minor": 2
}
