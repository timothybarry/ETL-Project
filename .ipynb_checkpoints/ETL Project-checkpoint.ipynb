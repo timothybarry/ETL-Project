{
 "cells": [
  {
   "cell_type": "code",
   "execution_count": null,
   "metadata": {},
   "outputs": [],
   "source": [
    "# imports and froms\n",
    "import pandas as pd\n",
    "import pymysql\n",
    "from sqlalchemy import create_engine\n",
    "pymysql.install_as_MySQLdb()"
   ]
  },
  {
   "cell_type": "code",
   "execution_count": null,
   "metadata": {},
   "outputs": [],
   "source": [
    "# load CSVs into dataframes\n",
    "dog_csv = 'Resources/dog_intelligence.csv'\n",
    "dog_df = pd.read_csv(dog_csv, encoding = 'utf8')\n",
    "dog_df.head()"
   ]
  },
  {
   "cell_type": "code",
   "execution_count": null,
   "metadata": {},
   "outputs": [],
   "source": [
    "# load CSVs into dataframes\n",
    "hetero85_csv = 'Resources/Table_4_Heterozygosity_85_breeds.csv'\n",
    "hetero85_df = pd.read_csv(hetero85_csv, encoding = 'utf8')\n",
    "hetero85_df.head()"
   ]
  },
  {
   "cell_type": "code",
   "execution_count": null,
   "metadata": {},
   "outputs": [],
   "source": [
    "# load CSVs into dataframes\n",
    "hetero60_csv = 'Resources/Table_5_Expected_Heterozygosity_60_breeds.csv'\n",
    "hetero60_df = pd.read_csv(hetero60_csv, encoding = 'utf8')\n",
    "hetero60_df.head()"
   ]
  },
  {
   "cell_type": "code",
   "execution_count": null,
   "metadata": {},
   "outputs": [],
   "source": [
    "# declare connection variables for mypysql and sqlalchemy\n",
    "host = '127.0.0.1' \n",
    "user = 'root'\n",
    "password = ''\n",
    "db = 'etl_db'\n",
    "charset = 'utf8'\n",
    "port = 3306\n",
    "cursorclass = pymysql.cursors.DictCursor\n",
    "\n",
    "# establish mypymsql connection\n",
    "connection = pymysql.connect(\n",
    "    host=host,\n",
    "    user=user,\n",
    "    password=password,\n",
    "    charset=charset,\n",
    "    cursorclass=cursorclass)\n",
    "cursor_object = connection.cursor()"
   ]
  },
  {
   "cell_type": "code",
   "execution_count": null,
   "metadata": {},
   "outputs": [],
   "source": [
    "# create database\n",
    "sql_create = (f'CREATE DATABASE IF NOT EXISTS {db}')  \n",
    "cursor_object.execute(sql_create)\n",
    "\n",
    "# show databases\n",
    "sql_query = 'SHOW DATABASES'\n",
    "cursor_object.execute(sql_query)\n",
    "db_list = cursor_object.fetchall()\n",
    "\n",
    "for database in db_list:\n",
    "    print(database)"
   ]
  },
  {
   "cell_type": "code",
   "execution_count": null,
   "metadata": {},
   "outputs": [],
   "source": [
    "# reestablish pymysql connection with database specified\n",
    "connection = pymysql.connect(\n",
    "    host=host,\n",
    "    user=user,\n",
    "    password=password,\n",
    "    db=db, \n",
    "    charset=charset,\n",
    "    cursorclass=cursorclass)\n",
    "cursor_object = connection.cursor()\n",
    "\n",
    "# create tables\n",
    "query_list = [\n",
    "    'CREATE TABLE IF NOT EXISTS dogs(Breed VARCHAR(32), Classification VARCHAR(32), obey FLOAT, reps_lower INT, reps_upper INT)',\n",
    "    'CREATE TABLE IF NOT EXISTS hetero85(Population VARCHAR(32), Heterozygosit FLOAT)',\n",
    "    'CREATE TABLE IF NOT EXISTS hetero60(Breed VARCHAR(32), Heterozygosity FLOAT)'\n",
    "]\n",
    "\n",
    "for query in query_list:\n",
    "    cursor_object.execute(query)\n",
    "\n",
    "# show tables\n",
    "sql_query = 'SHOW TABLES'   \n",
    "cursor_object.execute(sql_query)\n",
    "rows = cursor_object.fetchall()\n",
    "\n",
    "for row in rows:\n",
    "    print(row)"
   ]
  },
  {
   "cell_type": "code",
   "execution_count": null,
   "metadata": {},
   "outputs": [],
   "source": [
    "# establish sqlalchemy connection\n",
    "con = create_engine(f'mysql+pymysql://{user}:{password}@{host}:{port}/{db}?charset=utf8mb4', echo=False)\n",
    "\n",
    "# load data into tables\n",
    "dog_df.to_sql(name='dogs', con=con, if_exists='replace', index=False)\n",
    "hetero85_df.to_sql(name='hetero85', con=con, if_exists='replace', index=False)\n",
    "hetero60_df.to_sql(name='hetero60', con=con, if_exists='replace', index=False)"
   ]
  },
  {
   "cell_type": "code",
   "execution_count": null,
   "metadata": {
    "scrolled": true
   },
   "outputs": [],
   "source": [
    "# reestablish pymysql connection after loading data\n",
    "connection = pymysql.connect(\n",
    "    host=host,\n",
    "    user=user,\n",
    "    password=password,\n",
    "    db=db, \n",
    "    charset=charset,\n",
    "    cursorclass=cursorclass)\n",
    "cursor_object = connection.cursor()\n",
    "\n",
    "# show data in tables\n",
    "query_list = [\n",
    "    'SELECT * FROM dogs LIMIT 10',\n",
    "    'SELECT * FROM hetero60 LIMIT 10',\n",
    "    'SELECT * FROM hetero85 LIMIT 10']\n",
    "\n",
    "for query in query_list:\n",
    "    cursor_object.execute(query)\n",
    "    rows = cursor_object.fetchall()\n",
    "\n",
    "    for row in rows:\n",
    "        print(row)\n",
    "        \n",
    "    print(end='\\n')"
   ]
  },
  {
   "cell_type": "code",
   "execution_count": null,
   "metadata": {},
   "outputs": [],
   "source": [
    "# terminate pymysql connection\n",
    "connection.close()"
   ]
  }
 ],
 "metadata": {
  "kernelspec": {
   "display_name": "Python 3",
   "language": "python",
   "name": "python3"
  },
  "language_info": {
   "codemirror_mode": {
    "name": "ipython",
    "version": 3
   },
   "file_extension": ".py",
   "mimetype": "text/x-python",
   "name": "python",
   "nbconvert_exporter": "python",
   "pygments_lexer": "ipython3",
   "version": "3.6.6"
  }
 },
 "nbformat": 4,
 "nbformat_minor": 2
}
